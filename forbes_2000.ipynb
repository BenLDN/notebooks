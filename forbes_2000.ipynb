{
 "cells": [
  {
   "cell_type": "code",
   "execution_count": 71,
   "metadata": {},
   "outputs": [],
   "source": [
    "# https://data.world/aroissues/forbes-global-2000-2008-2019"
   ]
  },
  {
   "cell_type": "code",
   "execution_count": 72,
   "metadata": {},
   "outputs": [],
   "source": [
    "import numpy as np\n",
    "import pandas as pd\n",
    "import matplotlib.pyplot as plt\n",
    "%matplotlib inline"
   ]
  },
  {
   "cell_type": "code",
   "execution_count": 73,
   "metadata": {},
   "outputs": [],
   "source": [
    "first_year = 2008\n",
    "last_year = 2019\n",
    "forbes_data = {}\n",
    "\n",
    "for year in range(first_year, last_year + 1):\n",
    "    file_name = 'Forbes Global 2000 - ' + str(year) + '.csv'\n",
    "    df = pd.read_csv(file_name)\n",
    "    forbes_data[year] = df"
   ]
  },
  {
   "cell_type": "code",
   "execution_count": 74,
   "metadata": {},
   "outputs": [
    {
     "data": {
      "text/plain": [
       "{'Assets': 11,\n",
       " 'Assets ($bil)': 1,\n",
       " 'CEO': 5,\n",
       " 'Company': 12,\n",
       " 'Continent': 6,\n",
       " 'Country': 12,\n",
       " 'Forbes Webpage': 9,\n",
       " 'Headquarters': 5,\n",
       " 'Industry': 12,\n",
       " 'Market Value': 11,\n",
       " 'Market Value ($bil)': 1,\n",
       " 'Profits': 11,\n",
       " 'Profits ($bil)': 1,\n",
       " 'Profits as % of Assets': 11,\n",
       " 'Profits as % of Revenue': 5,\n",
       " 'Profits as % of Sales': 6,\n",
       " 'Rank': 12,\n",
       " 'Revenue': 5,\n",
       " 'Sales': 6,\n",
       " 'Sales ($bil)': 1,\n",
       " 'Sector': 6,\n",
       " 'State': 5}"
      ]
     },
     "execution_count": 74,
     "metadata": {},
     "output_type": "execute_result"
    }
   ],
   "source": [
    "cols = {}\n",
    "\n",
    "for year, df in forbes_data.items():\n",
    "    for col in df.columns:\n",
    "        if col in cols:\n",
    "            cols[col] += 1\n",
    "        else:\n",
    "            cols[col] = 1\n",
    "\n",
    "cols"
   ]
  },
  {
   "cell_type": "code",
   "execution_count": 75,
   "metadata": {},
   "outputs": [],
   "source": [
    "industry_sector_map = {\n",
    "                        'Advertising': 'Consumer Discretionary',\n",
    "                        'Apparel/Accessories': 'Consumer Discretionary',\n",
    "                        'Apparel/Footwear Retail': 'Consumer Discretionary',\n",
    "                        'Auto & Truck Manufacturers': 'Consumer Discretionary',\n",
    "                        'Auto & Truck Parts': 'Consumer Discretionary',\n",
    "                        'Broadcasting & Cable': 'Consumer Discretionary',\n",
    "                        'Business & Personal Services': 'Consumer Discretionary',\n",
    "                        'Casinos & Gaming': 'Consumer Discretionary',\n",
    "                        'Consumer Electronics': 'Consumer Discretionary',\n",
    "                        'Department Stores': 'Consumer Discretionary',\n",
    "                        'Discount Stores': 'Consumer Discretionary',\n",
    "                        'Furniture & Fixtures': 'Consumer Discretionary',\n",
    "                        'Home Improvement Retail': 'Consumer Discretionary',\n",
    "                        'Hotels & Motels': 'Consumer Discretionary',\n",
    "                        'Household Appliances': 'Consumer Discretionary',\n",
    "                        'Internet & Catalog Retail': 'Consumer Discretionary',\n",
    "                        'Printing & Publishing': 'Consumer Discretionary',\n",
    "                        'Recreational Products': 'Consumer Discretionary',\n",
    "                        'Restaurants': 'Consumer Discretionary',\n",
    "                        'Specialty Stores': 'Consumer Discretionary',\n",
    "                        'Beverages': 'Consumer Staples',\n",
    "                        'Drug Retail': 'Consumer Staples',\n",
    "                        'Food Processing': 'Consumer Staples',\n",
    "                        'Food Retail': 'Consumer Staples',\n",
    "                        'Household/Personal Care': 'Consumer Staples',\n",
    "                        'Tobacco': 'Consumer Staples',\n",
    "                        'Oil & Gas Operations': 'Energy',\n",
    "                        'Oil Services & Equipment': 'Energy',\n",
    "                        'Consumer Financial Services': 'Financials',\n",
    "                        'Diversified Insurance': 'Financials',\n",
    "                        'Insurance Brokers': 'Financials',\n",
    "                        'Investment Services': 'Financials',\n",
    "                        'Life & Health Insurance': 'Financials',\n",
    "                        'Major Banks': 'Financials',\n",
    "                        'Property & Casualty Insurance': 'Financials',\n",
    "                        'Real Estate': 'Financials',\n",
    "                        'Regional Banks': 'Financials',\n",
    "                        'Rental & Leasing': 'Financials',\n",
    "                        'Thrifts & Mortgage Finance': 'Financials',\n",
    "                        'Biotechs': 'Health Care',\n",
    "                        'Healthcare Services': 'Health Care',\n",
    "                        'Managed Health Care': 'Health Care',\n",
    "                        'Medical Equipment & Supplies': 'Health Care',\n",
    "                        'Pharmaceuticals': 'Health Care',\n",
    "                        'Aerospace & Defense': 'Industrials',\n",
    "                        'Air Courier': 'Industrials',\n",
    "                        'Airline': 'Industrials',\n",
    "                        'Business Products & Supplies': 'Industrials',\n",
    "                        'Conglomerates': 'Industrials',\n",
    "                        'Construction Services': 'Industrials',\n",
    "                        'Electrical Equipment': 'Industrials',\n",
    "                        'Environmental & Waste': 'Industrials',\n",
    "                        'Heavy Equipment': 'Industrials',\n",
    "                        'Other Industrial Equipment': 'Industrials',\n",
    "                        'Other Transportation': 'Industrials',\n",
    "                        'Railroads': 'Industrials',\n",
    "                        'Security Systems': 'Industrials',\n",
    "                        'Trading Companies': 'Industrials',\n",
    "                        'Trucking': 'Industrials',\n",
    "                        'Communications Equipment': 'Information Technology',\n",
    "                        'Computer & Electronics Retail': 'Information Technology',\n",
    "                        'Computer Hardware': 'Information Technology',\n",
    "                        'Computer Services': 'Information Technology',\n",
    "                        'Computer Storage Devices': 'Information Technology',\n",
    "                        'Electronics': 'Information Technology',\n",
    "                        'Semiconductors': 'Information Technology',\n",
    "                        'Software & Programming': 'Information Technology',\n",
    "                        'Aluminum': 'Materials',\n",
    "                        'Construction Materials': 'Materials',\n",
    "                        'Containers & Packaging': 'Materials',\n",
    "                        'Diversified Chemicals': 'Materials',\n",
    "                        'Diversified Metals & Mining': 'Materials',\n",
    "                        'Forest Products': 'Materials',\n",
    "                        'Iron & Steel': 'Materials',\n",
    "                        'Paper & Paper Products': 'Materials',\n",
    "                        'Specialized Chemicals': 'Materials',\n",
    "                        'Apparel-Accessories': 'Consumer Discretionary',\n",
    "                        'Apparel-Footwear Retail': 'Consumer Discretionary',\n",
    "                        'Banking': 'Financials',\n",
    "                        'Business Services & Supplies': 'Industrials',\n",
    "                        'Capital Goods': 'Financials',\n",
    "                        'Chemicals': 'Materials',\n",
    "                        'Construction': 'Industrials',\n",
    "                        'Consumer Durables': 'Consumer Staples',\n",
    "                        'Diversified Financials': 'Financials',\n",
    "                        'Diversified Utilities': 'Utilities',\n",
    "                        'Drugs & Biotechnology': 'Health Care',\n",
    "                        'Electric Utilities': 'Utilities',\n",
    "                        'Food Drink & Tobacco': 'Consumer Staples',\n",
    "                        'Food Markets': 'Consumer Staples',\n",
    "                        'Food, Drink & Tobacco': 'Consumer Staples',\n",
    "                        'Health Care Equipment & Svcs': 'Health Care',\n",
    "                        'Hotels, Restaurants & Leisure': 'Consumer Discretionary',\n",
    "                        'Household & Personal Products': 'Consumer Staples',\n",
    "                        'Household-Personal Care': 'Consumer Staples',\n",
    "                        'Insurance': 'Financials',\n",
    "                        'Materials': 'Materials',\n",
    "                        'Media': 'Telecommunication Services',\n",
    "                        'Natural Gas Utilities': 'Utilities',\n",
    "                        'Other Tranportation': 'Industrials',\n",
    "                        'Precision Healthcare Equipment': 'Health Care',\n",
    "                        'Retailing': 'Consumer Staples',\n",
    "                        'Software & Services': 'Information Technology',\n",
    "                        'Technology Hardware & Equip': 'Information Technology',\n",
    "                        'Telecommunications Services': 'Telecommunication Services',\n",
    "                        'Telecommunications services': 'Telecommunication Services',\n",
    "                        'Transportation': 'Industrials',\n",
    "                        'Utilities': 'Utilities'}"
   ]
  },
  {
   "cell_type": "code",
   "execution_count": 76,
   "metadata": {},
   "outputs": [],
   "source": [
    "common_columns = ['Company', 'Market Value', 'Country', 'Rank',\n",
    "                  'Revenue', 'Profits', 'Assets', 'Sector', 'Industry', 'Year']\n",
    "\n",
    "forbes_data_clean_list = []\n",
    "\n",
    "for year, df in forbes_data.items():\n",
    "    \n",
    "    if 'Sector' not in df.columns:\n",
    "        df['Sector'] = df['Industry'].map(industry_sector_map)\n",
    "    \n",
    "    df.rename(columns={'Assets ($bil)': 'Assets', \n",
    "                       'Profits ($bil)': 'Profits',\n",
    "                       'Market Value ($bil)': 'Market Value',\n",
    "                       'Sales': 'Revenue',\n",
    "                       'Sales ($bil)': 'Revenue'}, inplace = True)\n",
    "\n",
    "    df['Year'] = year\n",
    "    \n",
    "    forbes_data_clean_list.append(df[common_columns])\n",
    "\n",
    "forbes_clean = pd.concat(forbes_data_clean_list, sort=False)"
   ]
  },
  {
   "cell_type": "code",
   "execution_count": 77,
   "metadata": {},
   "outputs": [],
   "source": [
    "sectors_by_year = forbes_clean.pivot_table(index=['Company'],\n",
    "                                           columns=['Year'],\n",
    "                                           values=['Sector'],\n",
    "                                           aggfunc='first')"
   ]
  },
  {
   "cell_type": "code",
   "execution_count": 78,
   "metadata": {},
   "outputs": [],
   "source": [
    "sectors_by_year['last'] = sectors_by_year.apply(lambda x: x.dropna()[-1], axis=1)\n",
    "company_sector_map = sectors_by_year['last'].to_dict()"
   ]
  },
  {
   "cell_type": "code",
   "execution_count": 79,
   "metadata": {},
   "outputs": [],
   "source": [
    "forbes_clean['Original Sector'] = forbes_clean['Sector']\n",
    "forbes_clean['Sector'] = forbes_clean['Company'].map(company_sector_map)"
   ]
  },
  {
   "cell_type": "code",
   "execution_count": 80,
   "metadata": {},
   "outputs": [],
   "source": [
    "top_countries = ['China', 'United States']\n",
    "forbes_clean['Country Group'] = forbes_clean['Country']\\\n",
    "    .map(lambda x: x if x in top_countries else 'Other')"
   ]
  },
  {
   "cell_type": "code",
   "execution_count": 81,
   "metadata": {},
   "outputs": [],
   "source": [
    "forbes_countries = pd.pivot_table(forbes_clean,\n",
    "                                  index=['Country Group'],\n",
    "                                  columns=['Year'],\n",
    "                                  values=['Market Value'],\n",
    "                                  aggfunc=np.sum)\\\n",
    "                     .fillna(0)"
   ]
  },
  {
   "cell_type": "code",
   "execution_count": 82,
   "metadata": {},
   "outputs": [
    {
     "data": {
      "text/plain": [
       "<matplotlib.legend.Legend at 0x7fb624883128>"
      ]
     },
     "execution_count": 82,
     "metadata": {},
     "output_type": "execute_result"
    },
    {
     "data": {
      "image/png": "[encoded data removed]",
      "text/plain": [
       "<matplotlib.figure.Figure at 0x7fb6248832b0>"
      ]
     },
     "metadata": {
      "needs_background": "light"
     },
     "output_type": "display_data"
    }
   ],
   "source": [
    "forbes_countries.T.plot(kind='bar', stacked=True, figsize=(10,5))\n",
    "plt.legend(bbox_to_anchor=(1.05, 1), loc='upper left')"
   ]
  },
  {
   "cell_type": "code",
   "execution_count": 83,
   "metadata": {},
   "outputs": [],
   "source": [
    "forbes_sectors = pd.pivot_table(forbes_clean,\n",
    "                                index=['Sector'],\n",
    "                                columns=['Year'],\n",
    "                                values=['Market Value'],\n",
    "                                aggfunc=np.sum)\\\n",
    "                   .fillna(0)"
   ]
  },
  {
   "cell_type": "code",
   "execution_count": 84,
   "metadata": {},
   "outputs": [
    {
     "data": {
      "text/plain": [
       "<matplotlib.legend.Legend at 0x7fb6249e8080>"
      ]
     },
     "execution_count": 84,
     "metadata": {},
     "output_type": "execute_result"
    },
    {
     "data": {
      "image/png": "[encoded data removed]",
      "text/plain": [
       "<matplotlib.figure.Figure at 0x7fb6223bc978>"
      ]
     },
     "metadata": {
      "needs_background": "light"
     },
     "output_type": "display_data"
    }
   ],
   "source": [
    "forbes_sectors.T.plot(kind='bar', stacked=True, figsize=(10,5))\n",
    "plt.legend(bbox_to_anchor=(1.05, 1), loc='upper left')"
   ]
  },
  {
   "cell_type": "code",
   "execution_count": null,
   "metadata": {},
   "outputs": [],
   "source": []
  }
 ],
 "metadata": {
  "kernelspec": {
   "display_name": "Python 3",
   "language": "python",
   "name": "python3"
  },
  "language_info": {
   "codemirror_mode": {
    "name": "ipython",
    "version": 3
   },
   "file_extension": ".py",
   "mimetype": "text/x-python",
   "name": "python",
   "nbconvert_exporter": "python",
   "pygments_lexer": "ipython3",
   "version": "3.5.2"
  }
 },
 "nbformat": 4,
 "nbformat_minor": 2
}
